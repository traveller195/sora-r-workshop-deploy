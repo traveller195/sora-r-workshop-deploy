{
 "cells": [
  {
   "cell_type": "markdown",
   "id": "7038e3f7-c3eb-4205-b918-489b48607d97",
   "metadata": {},
   "source": [
    "# Task XX: Title of task"
   ]
  },
  {
   "cell_type": "markdown",
   "id": "c9256e1c",
   "metadata": {},
   "source": [
    "| Title    | Title of task |\n",
    "|----------|----------|\n",
    "| <b>Keywords</b>    | #keyword1 #keyword2 #keyword3  |\n",
    "| <b>Duration (estimated)</b> | 10 minutes |\n",
    "| <b>Level</b> | Basic / Advanced   |\n",
    "| <b>Author(s)</b> | Alexander Jung (SOEP), Theodor Rieche (IOER) |\n",
    "| <b>License</b> | Creative Commons Attribution 4.0 International |\n",
    "| <b>Requirements</b> | <ul><li>basic skills of R coding</li><li>understanding of spatial linking methods</li><li>understanding of SOEP data</li></ul> |\n",
    "| <b>What will you learn?</b> | <ul><li>xxx</li><li>xxx</li><li>xxx</li></ul> |\n",
    "| <b>Task description</b> | Lorem ipsum dolor sit amet, consectetur adipiscing elit. Sed do eiusmod tempor incididunt <br> ut labore et dolore magna aliqua. Ut enim ad minim veniam, quis nostrud exercitation. |"
   ]
  },
  {
   "cell_type": "markdown",
   "id": "4c3a75da",
   "metadata": {},
   "source": [
    "## Load functions from SoRa R package\n",
    "This steps are currently required to load all R functions from /R/ directory. In future, the SoRa R package will be installed directly."
   ]
  },
  {
   "cell_type": "code",
   "execution_count": null,
   "id": "fb160ca4",
   "metadata": {
    "vscode": {
     "languageId": "r"
    }
   },
   "outputs": [],
   "source": [
    "# load R functions from SoRa R Package\n",
    "path <- \"/home/jovyan/R/\"\n",
    "sora_functions  <- dir(path)\n",
    "for (i in sora_functions) {\n",
    "  source(paste0(path, i))\n",
    "}"
   ]
  },
  {
   "cell_type": "markdown",
   "id": "01957071",
   "metadata": {},
   "source": [
    "## Check your changed SORA_API_KEY \n",
    "- the environment variable from .Renviron file\n"
   ]
  },
  {
   "cell_type": "code",
   "execution_count": null,
   "id": "5633fdc2",
   "metadata": {
    "vscode": {
     "languageId": "r"
    }
   },
   "outputs": [],
   "source": [
    "# check environment variable for SORA_API_KEY\n",
    "Sys.getenv(\"SORA_API_KEY\")"
   ]
  },
  {
   "cell_type": "markdown",
   "id": "e2ea612a",
   "metadata": {},
   "source": [
    "## Step 1"
   ]
  },
  {
   "cell_type": "code",
   "execution_count": null,
   "id": "5015fd68-c359-4a01-94ac-6ed2f1f53556",
   "metadata": {
    "vscode": {
     "languageId": "r"
    }
   },
   "outputs": [],
   "source": [
    "## There exist four csv files (`provided`, `admin`, `spatial`, `linking`) which can be loaded in R. The default is the `provided` file,\n",
    "## which provides the information of the `geospatial datasets`.\n",
    "## load the data picker with the default and save it in dp:\n",
    "dp <- sora_datapicker(content = \"spatial\")"
   ]
  },
  {
   "cell_type": "code",
   "execution_count": null,
   "id": "252611c2",
   "metadata": {
    "vscode": {
     "languageId": "r"
    }
   },
   "outputs": [],
   "source": [
    "## which columns are in that saved table\n",
    "names(dp)"
   ]
  }
 ],
 "metadata": {
  "kernelspec": {
   "display_name": "R-4.4.2",
   "language": "R",
   "name": "ir40"
  },
  "language_info": {
   "codemirror_mode": "r",
   "file_extension": ".r",
   "mimetype": "text/x-r-source",
   "name": "R",
   "pygments_lexer": "r",
   "version": "4.4.2"
  }
 },
 "nbformat": 4,
 "nbformat_minor": 5
}
